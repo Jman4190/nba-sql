{
 "cells": [
  {
   "cell_type": "markdown",
   "metadata": {},
   "source": [
    "# Player General Traditional Stats Walk Through"
   ]
  },
  {
   "cell_type": "markdown",
   "metadata": {},
   "source": [
    "First things first we need to import the modules we need. This includes the famous requests model and our settings and class model."
   ]
  },
  {
   "cell_type": "code",
   "execution_count": 1,
   "metadata": {},
   "outputs": [],
   "source": [
    "import requests\n",
    "from settings import Settings\n",
    "from models import PlayerGeneralTraditionalTotals"
   ]
  },
  {
   "cell_type": "markdown",
   "metadata": {},
   "source": [
    "Next, let's initialize our database and create a table based on our BaseModel."
   ]
  },
  {
   "cell_type": "code",
   "execution_count": 2,
   "metadata": {},
   "outputs": [],
   "source": [
    "settings = Settings()\n",
    "settings.db.create_tables([PlayerGeneralTraditionalTotals], safe=True)"
   ]
  },
  {
   "cell_type": "markdown",
   "metadata": {},
   "source": [
    "To start, let's pick a specific season and a specific per mode, totals since we can always get per game data from the totals"
   ]
  },
  {
   "cell_type": "code",
   "execution_count": 3,
   "metadata": {},
   "outputs": [],
   "source": [
    "season_id = '2018-19'\n",
    "per_mode = 'Totals'"
   ]
  },
  {
   "cell_type": "markdown",
   "metadata": {},
   "source": [
    "Let's dynamically insert our season_id and per_mode variables into the url. Remember, these are the parameters we saw earlier. We will get specific data based on the parameters we pass it. If we changed the season we would get different data from the NBA API endpoint."
   ]
  },
  {
   "cell_type": "code",
   "execution_count": null,
   "metadata": {},
   "outputs": [],
   "source": [
    "player_info_url = 'https://stats.nba.com/stats/leaguedashplayerstats?College=&Conference=&Country=&DateFrom=&DateTo=&Division=&DraftPick=&DraftYear=&GameScope=&GameSegment=&Height=&LastNGames=0&LeagueID=00&Location=&MeasureType=Base&Month=0&OpponentTeamID=0&Outcome=&PORound=0&PaceAdjust=N&PerMode='+per_mode+'&Period=0&PlayerExperience=&PlayerPosition=&PlusMinus=N&Rank=N&Season='+season_id+'&SeasonSegment=&SeasonType=Regular+Season&ShotClockRange=&StarterBench=&TeamID=0&TwoWay=0&VsConference=&VsDivision=&Weight='"
   ]
  },
  {
   "cell_type": "markdown",
   "metadata": {},
   "source": [
    "This is the magic right here. This is what lets us get around Adam Silver and his cronies. For whatever reason, if you add this to the requests headers, you are smooth sailing as of August 2020."
   ]
  },
  {
   "cell_type": "markdown",
   "metadata": {},
   "source": [
    "Please note I got this from: https://github.com/rd11490/NBA_Tutorials/tree/master/finding_endpoints"
   ]
  },
  {
   "cell_type": "code",
   "execution_count": 5,
   "metadata": {},
   "outputs": [],
   "source": [
    "headers  = {\n",
    "    'Connection': 'keep-alive',\n",
    "    'Accept': 'application/json, text/plain, */*',\n",
    "    'x-nba-stats-token': 'true',\n",
    "    'User-Agent': 'Mozilla/5.0 (Macintosh; Intel Mac OS X 10_14_6) AppleWebKit/537.36 (KHTML, like Gecko) Chrome/79.0.3945.130 Safari/537.36',\n",
    "    'x-nba-stats-origin': 'stats',\n",
    "    'Sec-Fetch-Site': 'same-origin',\n",
    "    'Sec-Fetch-Mode': 'cors',\n",
    "    'Referer': 'https://stats.nba.com/',\n",
    "    'Accept-Encoding': 'gzip, deflate, br',\n",
    "    'Accept-Language': 'en-US,en;q=0.9',\n",
    "}"
   ]
  },
  {
   "cell_type": "markdown",
   "metadata": {},
   "source": [
    "This is the response we get back. We will save it into a response variable so we can access the specific json data."
   ]
  },
  {
   "cell_type": "code",
   "execution_count": 6,
   "metadata": {},
   "outputs": [],
   "source": [
    "response = requests.get(url=player_info_url, headers=headers).json()"
   ]
  },
  {
   "cell_type": "markdown",
   "metadata": {},
   "source": [
    "If you remember the requests we saw in the preview tab, we wanted the data which was nested a few layers deep. We need to go to results set, take the first set of data, then that specific rowSet."
   ]
  },
  {
   "cell_type": "code",
   "execution_count": 7,
   "metadata": {},
   "outputs": [],
   "source": [
    "player_info = response['resultSets'][0]['rowSet']"
   ]
  },
  {
   "cell_type": "markdown",
   "metadata": {},
   "source": [
    "We will save it into a new variable that allows us to for loop over it. Let's match each column with the appropriate row. This is time consuming but just copy paste this 'ish."
   ]
  },
  {
   "cell_type": "code",
   "execution_count": null,
   "metadata": {},
   "outputs": [],
   "source": [
    "player_info"
   ]
  },
  {
   "cell_type": "code",
   "execution_count": 8,
   "metadata": {},
   "outputs": [
    {
     "name": "stdout",
     "output_type": "stream",
     "text": [
      "Done inserting player general traditional season total data to the database!\n"
     ]
    }
   ],
   "source": [
    "for row in player_info:\n",
    "    player = PlayerGeneralTraditionalTotals(\n",
    "        season_id=season_id, # this is key, need this to join and sort by seasons\n",
    "        player_id=row[0],\n",
    "        player_name=row[1],\n",
    "        team_id=row[2],\n",
    "        team_abbreviation=row[3],\n",
    "        age=row[4],\n",
    "        gp=row[5],\n",
    "        w=row[6],\n",
    "        l=row[7],\n",
    "        w_pct=row[8],\n",
    "        min=row[9],\n",
    "        fgm=row[10],\n",
    "        fga=row[11],\n",
    "        fg_pct=row[12],\n",
    "        fg3m=row[13],\n",
    "        fg3a=row[14],\n",
    "        fg3_pct=row[15],\n",
    "        ftm=row[16],\n",
    "        fta=row[17],\n",
    "        ft_pct=row[18],\n",
    "        oreb=row[19],\n",
    "        dreb=row[20],\n",
    "        reb=row[21],\n",
    "        ast=row[22],\n",
    "        tov=row[23],\n",
    "        stl=row[24],\n",
    "        blk=row[25],\n",
    "        blka=row[26],\n",
    "        pf=row[27],\n",
    "        pfd=row[28],\n",
    "        pts=row[29],\n",
    "        plus_minus=row[30],\n",
    "        nba_fantasy_pts=row[31],\n",
    "        dd2=row[32],\n",
    "        td3=row[33],\n",
    "        gp_rank=row[34],\n",
    "        w_rank=row[35],\n",
    "        l_rank=row[36],\n",
    "        w_pct_rank=row[37],\n",
    "        min_rank=row[38],\n",
    "        fgm_rank=row[39],\n",
    "        fga_rank=row[40],\n",
    "        fg_pct_rank=row[41],\n",
    "        fg3m_rank=row[42],\n",
    "        fg3a_rank=row[43],\n",
    "        fg3_pct_rank=row[44],\n",
    "        ftm_rank=row[45],\n",
    "        fta_rank=row[46],\n",
    "        ft_pct_rank=row[47],\n",
    "        oreb_rank=row[48],\n",
    "        dreb_rank=row[49],\n",
    "        reb_rank=row[50],\n",
    "        ast_rank=row[51],\n",
    "        tov_rank=row[52],\n",
    "        stl_rank=row[53],\n",
    "        blk_rank=row[54],\n",
    "        blka_rank=row[55],\n",
    "        pf_rank=row[56],\n",
    "        pfd_rank=row[57],\n",
    "        pts_rank=row[58],\n",
    "        plus_minus_rank=row[59],\n",
    "        nba_fantasy_pts_rank=row[60],\n",
    "        dd2_rank=row[61],\n",
    "        td3_rank=row[62],\n",
    "        cfid=row[63],\n",
    "        cfparams=row[64])\n",
    "\n",
    "    player.save()\n",
    "        \n",
    "print (\"Done inserting player general traditional season total data to the database!\")"
   ]
  },
  {
   "cell_type": "markdown",
   "metadata": {},
   "source": [
    "Let's run it and voila!"
   ]
  },
  {
   "cell_type": "markdown",
   "metadata": {},
   "source": [
    "## Looping Over Each Season"
   ]
  },
  {
   "cell_type": "markdown",
   "metadata": {},
   "source": [
    "We'll next squash it into a script and create a new list of season ids to loop over. After that we indent the script once and now we are cooking for each season."
   ]
  },
  {
   "cell_type": "code",
   "execution_count": null,
   "metadata": {},
   "outputs": [],
   "source": [
    "season_list = [\n",
    "    '1996-97',\n",
    "    '1997-98',\n",
    "    '1998-99',\n",
    "    '1999-00',\n",
    "    '2000-01',\n",
    "    '2001-02',\n",
    "    '2002-03',\n",
    "    '2003-04',\n",
    "    '2004-05',\n",
    "    '2005-06',\n",
    "    '2006-07',\n",
    "    '2007-08',\n",
    "    '2008-09',\n",
    "    '2009-10',\n",
    "    '2010-11',\n",
    "    '2011-12',\n",
    "    '2012-13',\n",
    "    '2013-14',\n",
    "    '2014-15',\n",
    "    '2015-16',\n",
    "    '2016-17',\n",
    "    '2017-18',\n",
    "    '2018-19',\n",
    "    '2019-20'\n",
    "]\n",
    "#per_mode = 'Per100Possessions'\n",
    "per_mode = 'Totals'\n",
    "#per_mode = 'Per36'\n",
    "#per_mode = 'PerGame'"
   ]
  },
  {
   "cell_type": "markdown",
   "metadata": {},
   "source": [
    "Note the print statement to keep us updated throughout the script."
   ]
  },
  {
   "cell_type": "code",
   "execution_count": 10,
   "metadata": {},
   "outputs": [],
   "source": [
    "# for loop to loop over seasons\n",
    "for season_id in season_list:\n",
    "    print(\"Now working on \"+season_id+ \" season\")\n",
    "    # nba stats url to scrape\n",
    "    player_info_url = 'https://stats.nba.com/stats/leaguedashplayerstats?College=&Conference=&Country=&DateFrom=&DateTo=&Division=&DraftPick=&DraftYear=&GameScope=&GameSegment=&Height=&LastNGames=0&LeagueID=00&Location=&MeasureType=Base&Month=0&OpponentTeamID=0&Outcome=&PORound=0&PaceAdjust=N&PerMode=' + per_mode +'&Period=0&PlayerExperience=&PlayerPosition=&PlusMinus=N&Rank=N&Season=' + season_id + '&SeasonSegment=&SeasonType=Regular+Season&ShotClockRange=&StarterBench=&TeamID=0&TwoWay=0&VsConference=&VsDivision=&Weight='\n",
    "    # json response\n",
    "    response = requests.get(url=player_info_url, headers=headers).json()\n",
    "    # pulling just the data we want\n",
    "    player_info = response['resultSets'][0]['rowSet']\n",
    "    # looping over data to insert into table\n",
    "    for row in player_info:\n",
    "        player = PlayerGeneralTraditionalTotals(\n",
    "            season_id=season_id, # this is key, need this to join and sort by seasons\n",
    "            player_id=row[0],\n",
    "            player_name=row[1],\n",
    "            team_id=row[2],\n",
    "            team_abbreviation=row[3],\n",
    "            age=row[4],\n",
    "            gp=row[5],\n",
    "            w=row[6],\n",
    "            l=row[7],\n",
    "            w_pct=row[8],\n",
    "            min=row[9],\n",
    "            fgm=row[10],\n",
    "            fga=row[11],\n",
    "            fg_pct=row[12],\n",
    "            fg3m=row[13],\n",
    "            fg3a=row[14],\n",
    "            fg3_pct=row[15],\n",
    "            ftm=row[16],\n",
    "            fta=row[17],\n",
    "            ft_pct=row[18],\n",
    "            oreb=row[19],\n",
    "            dreb=row[20],\n",
    "            reb=row[21],\n",
    "            ast=row[22],\n",
    "            tov=row[23],\n",
    "            stl=row[24],\n",
    "            blk=row[25],\n",
    "            blka=row[26],\n",
    "            pf=row[27],\n",
    "            pfd=row[28],\n",
    "            pts=row[29],\n",
    "            plus_minus=row[30],\n",
    "            nba_fantasy_pts=row[31],\n",
    "            dd2=row[32],\n",
    "            td3=row[33],\n",
    "            gp_rank=row[34],\n",
    "            w_rank=row[35],\n",
    "            l_rank=row[36],\n",
    "            w_pct_rank=row[37],\n",
    "            min_rank=row[38],\n",
    "            fgm_rank=row[39],\n",
    "            fga_rank=row[40],\n",
    "            fg_pct_rank=row[41],\n",
    "            fg3m_rank=row[42],\n",
    "            fg3a_rank=row[43],\n",
    "            fg3_pct_rank=row[44],\n",
    "            ftm_rank=row[45],\n",
    "            fta_rank=row[46],\n",
    "            ft_pct_rank=row[47],\n",
    "            oreb_rank=row[48],\n",
    "            dreb_rank=row[49],\n",
    "            reb_rank=row[50],\n",
    "            ast_rank=row[51],\n",
    "            tov_rank=row[52],\n",
    "            stl_rank=row[53],\n",
    "            blk_rank=row[54],\n",
    "            blka_rank=row[55],\n",
    "            pf_rank=row[56],\n",
    "            pfd_rank=row[57],\n",
    "            pts_rank=row[58],\n",
    "            plus_minus_rank=row[59],\n",
    "            nba_fantasy_pts_rank=row[60],\n",
    "            dd2_rank=row[61],\n",
    "            td3_rank=row[62],\n",
    "            cfid=row[63],\n",
    "            cfparams=row[64])\n",
    "        \n",
    "        player.save()\n",
    "        \n",
    "print (\"Done inserting player general traditional season total data to the database!\")"
   ]
  },
  {
   "cell_type": "markdown",
   "metadata": {},
   "source": [
    "And we are all set!"
   ]
  }
 ],
 "metadata": {
  "kernelspec": {
   "display_name": "Python 3",
   "language": "python",
   "name": "python3"
  },
  "language_info": {
   "codemirror_mode": {
    "name": "ipython",
    "version": 3
   },
   "file_extension": ".py",
   "mimetype": "text/x-python",
   "name": "python",
   "nbconvert_exporter": "python",
   "pygments_lexer": "ipython3",
   "version": "3.6.6"
  }
 },
 "nbformat": 4,
 "nbformat_minor": 2
}
