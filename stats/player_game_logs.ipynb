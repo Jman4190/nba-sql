{
 "cells": [
  {
   "cell_type": "markdown",
   "metadata": {},
   "source": [
    "# Player Game Logs"
   ]
  },
  {
   "cell_type": "code",
   "execution_count": 1,
   "metadata": {},
   "outputs": [],
   "source": [
    "import requests\n",
    "from settings import Settings\n",
    "from models import PlayerGameLogs"
   ]
  },
  {
   "cell_type": "code",
   "execution_count": 2,
   "metadata": {},
   "outputs": [],
   "source": [
    "settings = Settings()\n",
    "settings.db.create_tables([PlayerGameLogs], safe=True)"
   ]
  },
  {
   "cell_type": "code",
   "execution_count": 3,
   "metadata": {},
   "outputs": [],
   "source": [
    "headers  = {\n",
    "    'Connection': 'keep-alive',\n",
    "    'Accept': 'application/json, text/plain, */*',\n",
    "    'x-nba-stats-token': 'true',\n",
    "    'User-Agent': 'Mozilla/5.0 (Macintosh; Intel Mac OS X 10_14_6) AppleWebKit/537.36 (KHTML, like Gecko) Chrome/79.0.3945.130 Safari/537.36',\n",
    "    'x-nba-stats-origin': 'stats',\n",
    "    'Sec-Fetch-Site': 'same-origin',\n",
    "    'Sec-Fetch-Mode': 'cors',\n",
    "    'Referer': 'https://stats.nba.com/',\n",
    "    'Accept-Encoding': 'gzip, deflate, br',\n",
    "    'Accept-Language': 'en-US,en;q=0.9',\n",
    "}"
   ]
  },
  {
   "cell_type": "code",
   "execution_count": 4,
   "metadata": {},
   "outputs": [],
   "source": [
    "season_list = [\n",
    "    '1996-97',\n",
    "    '1997-98',\n",
    "    '1998-99',\n",
    "    '1999-00',\n",
    "    '2000-01',\n",
    "    '2001-02',\n",
    "    '2002-03',\n",
    "    '2003-04',\n",
    "    '2004-05',\n",
    "    '2005-06',\n",
    "    '2006-07',\n",
    "    '2007-08',\n",
    "    '2008-09',\n",
    "    '2009-10',\n",
    "    '2010-11',\n",
    "    '2011-12',\n",
    "    '2012-13',\n",
    "    '2013-14',\n",
    "    '2014-15',\n",
    "    '2015-16',\n",
    "    '2016-17',\n",
    "    '2017-18',\n",
    "    '2018-19',\n",
    "    '2019-20'\n",
    "]\n",
    "\n",
    "type_player = 'P'\n",
    "type_team = 'T'"
   ]
  },
  {
   "cell_type": "code",
   "execution_count": 5,
   "metadata": {},
   "outputs": [
    {
     "name": "stdout",
     "output_type": "stream",
     "text": [
      "Now working on 1996-97 season\n",
      "Now working on 1997-98 season\n",
      "Now working on 1998-99 season\n",
      "Now working on 1999-00 season\n",
      "Now working on 2000-01 season\n",
      "Now working on 2001-02 season\n",
      "Now working on 2002-03 season\n",
      "Now working on 2003-04 season\n",
      "Now working on 2004-05 season\n",
      "Now working on 2005-06 season\n",
      "Now working on 2006-07 season\n",
      "Now working on 2007-08 season\n",
      "Now working on 2008-09 season\n",
      "Now working on 2009-10 season\n",
      "Now working on 2010-11 season\n",
      "Now working on 2011-12 season\n",
      "Now working on 2012-13 season\n",
      "Now working on 2013-14 season\n",
      "Now working on 2014-15 season\n",
      "Now working on 2015-16 season\n",
      "Now working on 2016-17 season\n",
      "Now working on 2017-18 season\n",
      "Now working on 2018-19 season\n",
      "Now working on 2019-20 season\n",
      "Done inserting player bios data to the database!\n"
     ]
    }
   ],
   "source": [
    "# for loop to loop over seasons\n",
    "for season_id in season_list:\n",
    "    print(\"Now working on \"+season_id+ \" season\")\n",
    "    player_info_url = 'https://stats.nba.com/stats/leaguegamelog?Counter=1000&DateFrom=&DateTo=&Direction=DESC&LeagueID=00&PlayerOrTeam='+type_player+'&Season='+season_id+'&SeasonType=Regular+Season&Sorter=DATE'\n",
    "    # json response\n",
    "    response = requests.get(url=player_info_url, headers=headers).json()\n",
    "    # pulling just the data we want\n",
    "    player_info = response['resultSets'][0]['rowSet']\n",
    "    # looping over data to insert into table\n",
    "    for row in player_info:\n",
    "        player = PlayerGameLogs(\n",
    "            season_id=season_id,  # this is key, need this to join and sort by seasons\n",
    "            player_id=row[1],\n",
    "            player_name=row[2],\n",
    "            team_id=row[3],\n",
    "            team_abbreviation=row[4],\n",
    "            team_name=row[5],\n",
    "            game_id=row[6],\n",
    "            game_date=row[7],        \n",
    "            matchup=row[8],\n",
    "            wl=row[9],\n",
    "            min=row[10],\n",
    "            fgm=row[11],\n",
    "            fga=row[12],\n",
    "            fg_pct=row[13],\n",
    "            fg3m=row[14],\n",
    "            fg3a=row[15],\n",
    "            fg3_pct=row[16],\n",
    "            ftm=row[17],\n",
    "            fta=row[18],\n",
    "            ft_pct=row[19],\n",
    "            oreb=row[20],\n",
    "            dreb=row[21],\n",
    "            reb=row[22],\n",
    "            ast=row[23],\n",
    "            stl=row[24],\n",
    "            blk=row[25],\n",
    "            tov=row[26],\n",
    "            pf=row[27],\n",
    "            pts=row[28],\n",
    "            plus_minus=row[29],\n",
    "            video_available=row[30]\n",
    "            )\n",
    "        player.save()\n",
    "\n",
    "print (\"Done inserting player bios data to the database!\")"
   ]
  }
 ],
 "metadata": {
  "kernelspec": {
   "display_name": "Python 3",
   "language": "python",
   "name": "python3"
  },
  "language_info": {
   "codemirror_mode": {
    "name": "ipython",
    "version": 3
   },
   "file_extension": ".py",
   "mimetype": "text/x-python",
   "name": "python",
   "nbconvert_exporter": "python",
   "pygments_lexer": "ipython3",
   "version": "3.6.6"
  }
 },
 "nbformat": 4,
 "nbformat_minor": 2
}
